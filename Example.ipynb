{
 "cells": [
  {
   "cell_type": "code",
   "execution_count": null,
   "metadata": {
    "collapsed": false
   },
   "outputs": [],
   "source": [
    "%pylab inline\n",
    "from ipymol import init, MolViewer\n",
    "init()"
   ]
  },
  {
   "cell_type": "code",
   "execution_count": null,
   "metadata": {
    "collapsed": false
   },
   "outputs": [],
   "source": [
    "mol=MolViewer()\n",
    "mol.do('fetch 4MBS')\n",
    "mol.do('bg white; remove chain A; remove solvent; select ligand, resn MRV; as sticks, ligand;center ligand;orient ligand; zoom ligand, 10;rotate z,180;rotate x,90;center ligand; as spheres, 4MBS and not ligand; clip near, 5; util.cbaw; color slate, elem N; set light_count,8;set spec_count,1;set shininess, 10;set specular, 0.25;set ambient,0;set direct,0;set reflect,1.5;set ray_shadow_decay_factor, 0.3;set ray_shadow_decay_range, 1;unset depth_cue;show spheres, ligand; set stick_radius=.07, ligand; set sphere_scale,.25,ligand;color black, elem C and ligand; set stick_color, white; set sphere_quality,4 , ligand;set sphere_transparency,.2,4MBS and not ligand;ray')"
   ]
  },
  {
   "cell_type": "code",
   "execution_count": null,
   "metadata": {
    "collapsed": false
   },
   "outputs": [],
   "source": [
    "mol.show()"
   ]
  },
  {
   "cell_type": "code",
   "execution_count": null,
   "metadata": {
    "collapsed": true
   },
   "outputs": [],
   "source": []
  }
 ],
 "metadata": {
  "kernelspec": {
   "display_name": "Python 2",
   "language": "python",
   "name": "python2"
  },
  "language_info": {
   "codemirror_mode": {
    "name": "ipython",
    "version": 2
   },
   "file_extension": ".py",
   "mimetype": "text/x-python",
   "name": "python",
   "nbconvert_exporter": "python",
   "pygments_lexer": "ipython2",
   "version": "2.7.10"
  }
 },
 "nbformat": 4,
 "nbformat_minor": 0
}
